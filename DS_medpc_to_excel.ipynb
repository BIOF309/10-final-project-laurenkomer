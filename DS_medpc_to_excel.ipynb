{
 "cells": [
  {
   "cell_type": "code",
   "execution_count": 26,
   "metadata": {
    "collapsed": true
   },
   "outputs": [],
   "source": [
    "#Import file to python\n",
    "filename='/Users/komerle/Desktop/S09'\n",
    "\n",
    "def files():\n",
    "    n = 0\n",
    "    while True:\n",
    "        yield open('/Users/komerle/Desktop/output/Part%d.txt' % n, 'w')\n",
    "        n += 1\n",
    "\n",
    "#splitting file into number of boxes \n",
    "pat = 'Start Date:'\n",
    "fs = files()\n",
    "outfile = next(fs)\n",
    " \n",
    "with open(filename) as infile:\n",
    "    for line in infile:\n",
    "        if pat not in line:\n",
    "            outfile.write(line)\n",
    "        else:\n",
    "            items = line.split(pat)\n",
    "            outfile.write(items[0])\n",
    "            for item in items[1:]:\n",
    "                outfile = next(fs)\n",
    "                outfile.write(pat + item)\n",
    " "
   ]
  },
  {
   "cell_type": "code",
   "execution_count": 29,
   "metadata": {
    "collapsed": true
   },
   "outputs": [],
   "source": [
    "import pandas as pd\n",
    "import numpy as np\n",
    "import fnmatch\n",
    "import os\n",
    "\n",
    "data.drop(data.index, inplace=True)\n",
    "\n",
    "for file in os.listdir('/Users/komerle/Desktop/output'):\n",
    "    if fnmatch.fnmatch(file, '*.txt') and file != \"Part0.txt\":\n",
    "        filePath = '/Users/komerle/Desktop/output/' + file\n",
    "        \n",
    "        #reading rat number\n",
    "        Rat=pd.read_table(filePath, header=None, names=None,\n",
    "                          usecols=[1], skiprows=2, nrows=1, delim_whitespace=True)\n",
    "        \n",
    "        #reading box number\n",
    "        Box=pd.read_table(filePath, header=None, names=None, index_col=None, \n",
    "                          usecols=[1], skiprows=5, nrows=1, delim_whitespace=True)\n",
    "        \n",
    "        #reading C array\n",
    "        cArray=pd.read_table(filePath, header=None, names=None, index_col=None, \n",
    "                  usecols=[1,2,3,4,5], skiprows=33, nrows=5, \n",
    "                  delim_whitespace=True)\n",
    "        \n",
    "        #position of data to import into new array\n",
    "        rat = Rat.iloc[0][1]\n",
    "        box = Box.iloc[0][1]\n",
    "        infnplus = cArray.iloc[0][4]\n",
    "        infnminus = cArray.iloc[4][4]\n",
    "        pressplus = cArray.iloc[0][2]\n",
    "        pressminus = cArray.iloc[0][3]\n",
    "        trialsplus = cArray.iloc[2][4]\n",
    "        trialsminus = cArray.iloc[3][5]\n",
    "        latencyplus = cArray.iloc[1][4]\n",
    "        latencyminus = cArray.iloc[1][5]\n",
    "        \n",
    "        #new row of data in order\n",
    "        row = {\"Box\": [box],\"Rat\": [rat],\"+Trials\":[trialsplus],\"-Trials\": [trialsminus],\"+Press\":\n",
    "               [pressplus],\"-Press\": [pressminus],\"+Infusion\": [infnplus], \"-Infusion\":\n",
    "               [infnminus],\"+Latency\": [latencyplus],\"-Latency\": [latencyminus]}\n",
    "        datatemp=pd.DataFrame(row, columns=[\"Box\",\"Rat\",\"+Trials\",\"-Trials\",\"+Press\",\"-Press\",\n",
    "                         \"+Infusion\",\"-Infusion\",\"+Latency\",\"-Latency\"])\n",
    "        \n",
    "        data=pd.concat([data,datatemp], axis=0, join='outer', join_axes=None, ignore_index=True, copy=True)\n",
    "        \n",
    "        #data transcribed to excel worksheet\n",
    "data=data.sort_values(by='Box')\n",
    "print(data)\n",
    "writer = pd.ExcelWriter('/Users/komerle/Desktop/practice/DSdata3.xlsx', engine='xlsxwriter')\n",
    "data.to_excel(writer, sheet_name='DS_data')\n",
    "writer.save()        \n",
    "        #data.to_excel(\"/Users/komerle/Desktop/practice/DSdata2.xlsx\",sheet_name=\"DS_data\")"
   ]
  },
  {
   "cell_type": "code",
   "execution_count": 30,
   "metadata": {},
   "outputs": [
    {
     "name": "stdout",
     "output_type": "stream",
     "text": [
      "    +Infusion  +Latency  +Press  +Trials  -Infusion  -Latency  -Press  \\\n",
      "13       31.0    17.415    49.0     21.0        0.0       0.0     0.0   \n",
      "12       30.0    16.383    41.0     30.0        0.0       0.0     0.0   \n",
      "2        40.0    13.819    52.0     27.0        0.0       0.0     0.0   \n",
      "3        32.0    20.666    48.0     29.0        0.0       0.0     0.0   \n",
      "0        30.0    10.338    40.0     21.0        0.0       0.0     0.0   \n",
      "1        32.0    16.017    45.0     22.0        0.0       0.0     0.0   \n",
      "4        36.0    19.169    87.0     22.0        0.0       0.0     0.0   \n",
      "7        18.0    31.987    18.0     18.0        0.0       0.0     0.0   \n",
      "6        32.0    14.383    64.0     20.0        0.0       0.0     0.0   \n",
      "5        31.0    10.169    36.0     27.0        0.0       0.0     0.0   \n",
      "11       28.0    17.363    37.0     22.0        0.0       0.0     0.0   \n",
      "8        24.0    22.111    33.0     17.0        0.0       0.0     0.0   \n",
      "9         4.0    12.525     4.0      2.0        0.0       0.0     0.0   \n",
      "10       34.0     8.694    57.0     22.0        0.0       0.0     0.0   \n",
      "\n",
      "    -Trials   A   Box   Rat  \n",
      "13      0.0 NaN   1.0   1.0  \n",
      "12      0.0 NaN   2.0   2.0  \n",
      "2       0.0 NaN   3.0   3.0  \n",
      "3       0.0 NaN   4.0   4.0  \n",
      "0       0.0 NaN   5.0   5.0  \n",
      "1       0.0 NaN   6.0   6.0  \n",
      "4       0.0 NaN   7.0   7.0  \n",
      "7       0.0 NaN   8.0   8.0  \n",
      "6       0.0 NaN   9.0   9.0  \n",
      "5       0.0 NaN  10.0  10.0  \n",
      "11      0.0 NaN  11.0  11.0  \n",
      "8       0.0 NaN  12.0  16.0  \n",
      "9       0.0 NaN  13.0  17.0  \n",
      "10      0.0 NaN  14.0  14.0  \n"
     ]
    }
   ],
   "source": [
    "data=data.sort_values(by='Box')\n",
    "print(data)\n",
    "writer = pd.ExcelWriter('/Users/komerle/Desktop/practice/DSdata3.xlsx', engine='xlsxwriter')\n",
    "data.to_excel(writer, sheet_name='DS_data')\n",
    "writer.save()"
   ]
  },
  {
   "cell_type": "code",
   "execution_count": null,
   "metadata": {
    "collapsed": true
   },
   "outputs": [],
   "source": []
  }
 ],
 "metadata": {
  "kernelspec": {
   "display_name": "Python 3",
   "language": "python",
   "name": "python3"
  },
  "language_info": {
   "codemirror_mode": {
    "name": "ipython",
    "version": 3
   },
   "file_extension": ".py",
   "mimetype": "text/x-python",
   "name": "python",
   "nbconvert_exporter": "python",
   "pygments_lexer": "ipython3",
   "version": "3.6.1"
  }
 },
 "nbformat": 4,
 "nbformat_minor": 2
}
